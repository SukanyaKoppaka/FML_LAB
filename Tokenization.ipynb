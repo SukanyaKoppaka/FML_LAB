{
  "nbformat": 4,
  "nbformat_minor": 0,
  "metadata": {
    "colab": {
      "provenance": [],
      "authorship_tag": "ABX9TyPrPSzJ7mgXIKiCZ7l01Wx6",
      "include_colab_link": true
    },
    "kernelspec": {
      "name": "python3",
      "display_name": "Python 3"
    },
    "language_info": {
      "name": "python"
    }
  },
  "cells": [
    {
      "cell_type": "markdown",
      "metadata": {
        "id": "view-in-github",
        "colab_type": "text"
      },
      "source": [
        "<a href=\"https://colab.research.google.com/github/SukanyaKoppaka/FML_LAB/blob/main/Tokenization.ipynb\" target=\"_parent\"><img src=\"https://colab.research.google.com/assets/colab-badge.svg\" alt=\"Open In Colab\"/></a>"
      ]
    },
    {
      "cell_type": "markdown",
      "source": [
        "word tokenisation"
      ],
      "metadata": {
        "id": "_nULwsjG-WWj"
      }
    },
    {
      "cell_type": "code",
      "execution_count": 5,
      "metadata": {
        "colab": {
          "base_uri": "https://localhost:8080/"
        },
        "id": "0bQozb4G7PGE",
        "outputId": "c791a290-c241-4cb5-c390-a30c03d1ffdc"
      },
      "outputs": [
        {
          "output_type": "stream",
          "name": "stdout",
          "text": [
            "['Yes!@@', 'I’ll', 'let', 'you', 'in', 'on', 'a', 'little', 'secret:', 'You', 'can', 'answer', 'the', 'questions', 'without', 'reading', 'the', 'passage', 'from', 'top', 'to', 'bottom', 'because', 'as', 'you', 'know,', 'you', 'will', 'not', 'have', 'enough', 'time', 'to', 'do', 'this', 'with', 'all', 'three', 'passages.', 'So,', 'instead', 'of', 'doing', 'that,', 'you', 'can', 'apply', 'certain', 'skills', 'and', 'strategies', 'that', 'will', 'help', 'you.']\n",
            "No.of tokens :  55\n"
          ]
        }
      ],
      "source": [
        "text = '''Yes!@@ I’ll let you in on a little secret: You can answer the questions without reading the passage from top to bottom because as you know, you will not have enough time to do this with all three passages. So, instead of doing that, you can apply certain skills and strategies that will help you. '''\n",
        "\n",
        "tokens = text.split()\n",
        "\n",
        "print(tokens)\n",
        "print(\"No.of tokens : \", len(tokens))\n",
        "     "
      ]
    },
    {
      "cell_type": "markdown",
      "source": [
        "sentence tokenisation"
      ],
      "metadata": {
        "id": "QSNJz6YI_rZr"
      }
    },
    {
      "cell_type": "code",
      "source": [
        "sentences = text.split('.')\n",
        "\n",
        "print(sentences)\n",
        "print(\"No.of sentences : \", len(sentences))"
      ],
      "metadata": {
        "colab": {
          "base_uri": "https://localhost:8080/"
        },
        "id": "lDjP7yHN_vDx",
        "outputId": "f3c39b89-13ba-4d74-d6a7-b1bcabe08eaa"
      },
      "execution_count": 6,
      "outputs": [
        {
          "output_type": "stream",
          "name": "stdout",
          "text": [
            "['Yes!@@ I’ll let you in on a little secret: You can answer the questions without reading the passage from top to bottom because as you know, you will not have enough time to do this with all three passages', ' So, instead of doing that, you can apply certain skills and strategies that will help you', ' ']\n",
            "No.of sentences :  3\n"
          ]
        }
      ]
    },
    {
      "cell_type": "code",
      "source": [
        "import re\n",
        "     \n"
      ],
      "metadata": {
        "id": "ICLKtDJh_6jR"
      },
      "execution_count": 7,
      "outputs": []
    },
    {
      "cell_type": "code",
      "source": [
        "tokens = re.findall(\"[\\w']+\", text)  \n",
        "print(tokens)\n",
        "print(\"No.of tokens : \", len(tokens))"
      ],
      "metadata": {
        "colab": {
          "base_uri": "https://localhost:8080/"
        },
        "id": "tjIke3v5A0fB",
        "outputId": "6260a218-97ae-462b-f41b-67bc5d8b1754"
      },
      "execution_count": 8,
      "outputs": [
        {
          "output_type": "stream",
          "name": "stdout",
          "text": [
            "['Yes', 'I', 'll', 'let', 'you', 'in', 'on', 'a', 'little', 'secret', 'You', 'can', 'answer', 'the', 'questions', 'without', 'reading', 'the', 'passage', 'from', 'top', 'to', 'bottom', 'because', 'as', 'you', 'know', 'you', 'will', 'not', 'have', 'enough', 'time', 'to', 'do', 'this', 'with', 'all', 'three', 'passages', 'So', 'instead', 'of', 'doing', 'that', 'you', 'can', 'apply', 'certain', 'skills', 'and', 'strategies', 'that', 'will', 'help', 'you']\n",
            "No.of tokens :  56\n"
          ]
        }
      ]
    },
    {
      "cell_type": "code",
      "source": [
        "sentences = re.compile('[.?!] ').split(text)\n",
        "print(sentences)\n",
        "print(\"No.of sentences : \", len(sentences))"
      ],
      "metadata": {
        "colab": {
          "base_uri": "https://localhost:8080/"
        },
        "id": "3G13qYy9CZaa",
        "outputId": "548c8e23-11fb-42bf-d1e1-4d66ddaf55b9"
      },
      "execution_count": 9,
      "outputs": [
        {
          "output_type": "stream",
          "name": "stdout",
          "text": [
            "['Yes!@@ I’ll let you in on a little secret: You can answer the questions without reading the passage from top to bottom because as you know, you will not have enough time to do this with all three passages', 'So, instead of doing that, you can apply certain skills and strategies that will help you', '']\n",
            "No.of sentences :  3\n"
          ]
        }
      ]
    },
    {
      "cell_type": "code",
      "source": [
        "!pip install --user -U nltk\n"
      ],
      "metadata": {
        "colab": {
          "base_uri": "https://localhost:8080/"
        },
        "id": "walXbfyJDChT",
        "outputId": "9bd918fd-711f-49ed-bb94-5529ac22b501"
      },
      "execution_count": 10,
      "outputs": [
        {
          "output_type": "stream",
          "name": "stdout",
          "text": [
            "Looking in indexes: https://pypi.org/simple, https://us-python.pkg.dev/colab-wheels/public/simple/\n",
            "Requirement already satisfied: nltk in /usr/local/lib/python3.10/dist-packages (3.8.1)\n",
            "Requirement already satisfied: click in /usr/local/lib/python3.10/dist-packages (from nltk) (8.1.3)\n",
            "Requirement already satisfied: joblib in /usr/local/lib/python3.10/dist-packages (from nltk) (1.2.0)\n",
            "Requirement already satisfied: regex>=2021.8.3 in /usr/local/lib/python3.10/dist-packages (from nltk) (2022.10.31)\n",
            "Requirement already satisfied: tqdm in /usr/local/lib/python3.10/dist-packages (from nltk) (4.65.0)\n"
          ]
        }
      ]
    },
    {
      "cell_type": "code",
      "source": [
        "\n",
        "\n",
        "import nltk\n",
        "nltk.download('punkt')\n",
        "     "
      ],
      "metadata": {
        "colab": {
          "base_uri": "https://localhost:8080/"
        },
        "id": "O4sIeYv9DJYJ",
        "outputId": "add7ae6c-6075-4349-c9b5-4bcdb61fdc40"
      },
      "execution_count": 11,
      "outputs": [
        {
          "output_type": "stream",
          "name": "stderr",
          "text": [
            "[nltk_data] Downloading package punkt to /root/nltk_data...\n",
            "[nltk_data]   Unzipping tokenizers/punkt.zip.\n"
          ]
        },
        {
          "output_type": "execute_result",
          "data": {
            "text/plain": [
              "True"
            ]
          },
          "metadata": {},
          "execution_count": 11
        }
      ]
    },
    {
      "cell_type": "code",
      "source": [
        "from nltk.tokenize import word_tokenize \n",
        "tokens = word_tokenize(text)\n",
        "print(tokens)\n",
        "print(\"No.of tokens : \", len(tokens))"
      ],
      "metadata": {
        "colab": {
          "base_uri": "https://localhost:8080/"
        },
        "id": "T8M54CP3Dc-q",
        "outputId": "92fd9dd9-4606-4016-a242-6a96b44101e9"
      },
      "execution_count": 12,
      "outputs": [
        {
          "output_type": "stream",
          "name": "stdout",
          "text": [
            "['Yes', '!', '@', '@', 'I', '’', 'll', 'let', 'you', 'in', 'on', 'a', 'little', 'secret', ':', 'You', 'can', 'answer', 'the', 'questions', 'without', 'reading', 'the', 'passage', 'from', 'top', 'to', 'bottom', 'because', 'as', 'you', 'know', ',', 'you', 'will', 'not', 'have', 'enough', 'time', 'to', 'do', 'this', 'with', 'all', 'three', 'passages', '.', 'So', ',', 'instead', 'of', 'doing', 'that', ',', 'you', 'can', 'apply', 'certain', 'skills', 'and', 'strategies', 'that', 'will', 'help', 'you', '.']\n",
            "No.of tokens :  66\n"
          ]
        }
      ]
    },
    {
      "cell_type": "code",
      "source": [
        "from nltk.tokenize import sent_tokenize\n",
        "sentences = sent_tokenize(text)\n",
        "print(sentences)\n",
        "print(\"No.of sentences : \", len(sentences))\n",
        "     "
      ],
      "metadata": {
        "colab": {
          "base_uri": "https://localhost:8080/"
        },
        "id": "Fe9Hqgm-Dno5",
        "outputId": "bc5d299c-7713-40fb-f121-3b390157e2d4"
      },
      "execution_count": 13,
      "outputs": [
        {
          "output_type": "stream",
          "name": "stdout",
          "text": [
            "['Yes!', '@@ I’ll let you in on a little secret: You can answer the questions without reading the passage from top to bottom because as you know, you will not have enough time to do this with all three passages.', 'So, instead of doing that, you can apply certain skills and strategies that will help you.']\n",
            "No.of sentences :  3\n"
          ]
        }
      ]
    }
  ]
}